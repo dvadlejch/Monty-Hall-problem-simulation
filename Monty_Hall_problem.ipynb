{
 "cells": [
  {
   "cell_type": "markdown",
   "id": "e3b5263c",
   "metadata": {},
   "source": [
    "# Monty Hall problem simulation"
   ]
  },
  {
   "cell_type": "markdown",
   "id": "aba2e83b",
   "metadata": {},
   "source": [
    "Suppose you're on a game show, and you're given the choice of three doors: Behind one door is a car; behind the others, goats. You pick a door, say No. 1, and the host, who knows what's behind the doors, opens another door, say No. 3, which has a goat. He then says to you, \"Do you want to pick door No. 2?\" Is it to your advantage to switch your choice?"
   ]
  },
  {
   "cell_type": "markdown",
   "id": "352b4000",
   "metadata": {},
   "source": [
    "Let's suppose arbitrary choices of doors (not specifically No. 1 and No. 2)"
   ]
  },
  {
   "cell_type": "code",
   "execution_count": 1,
   "id": "3e6e635f",
   "metadata": {},
   "outputs": [
    {
     "data": {
      "text/plain": [
       "{'A': 0, 'B': 1, 'C': 0}"
      ]
     },
     "execution_count": 1,
     "metadata": {},
     "output_type": "execute_result"
    }
   ],
   "source": [
    "from random import randint, choice\n",
    "import matplotlib.pyplot as plt\n",
    "\n",
    "doors = ['A', 'B', 'C']\n",
    "doors_len = len(doors)\n",
    "doors_carpos = [0]*doors_len\n",
    "doors_carpos[randint(0,doors_len-1)] = 1 # 3 doors with randomly placed car\n",
    "\n",
    "doors_dict = {doors[i]: doors_carpos[i] for i in range(len(doors))}\n",
    "\n",
    "doors_dict"
   ]
  },
  {
   "cell_type": "markdown",
   "id": "59c3c14a",
   "metadata": {},
   "source": [
    "Now the player randomly chooses one door"
   ]
  },
  {
   "cell_type": "code",
   "execution_count": 2,
   "id": "f4fac40c",
   "metadata": {},
   "outputs": [
    {
     "data": {
      "text/plain": [
       "'B'"
      ]
     },
     "execution_count": 2,
     "metadata": {},
     "output_type": "execute_result"
    }
   ],
   "source": [
    "player_choice = choice(doors)\n",
    "player_choice"
   ]
  },
  {
   "cell_type": "markdown",
   "id": "445118aa",
   "metadata": {},
   "source": [
    "The host reveals a goat"
   ]
  },
  {
   "cell_type": "code",
   "execution_count": 3,
   "id": "df676ceb",
   "metadata": {},
   "outputs": [
    {
     "data": {
      "text/plain": [
       "'C'"
      ]
     },
     "execution_count": 3,
     "metadata": {},
     "output_type": "execute_result"
    }
   ],
   "source": [
    "remaining_doors = [doors[i] for i in range(doors_len) if doors[i] != player_choice]\n",
    "\n",
    "# now host randomly chooses which door with a goat to reveal\n",
    "# first I have to find where are goats\n",
    "remaining_doors_goats = [door for door in remaining_doors if doors_dict[door] == 0]\n",
    "host_choice = choice(remaining_doors_goats)\n",
    "host_choice"
   ]
  },
  {
   "cell_type": "markdown",
   "id": "1996f4a4",
   "metadata": {},
   "source": [
    "Now there are 2 options, either the player does not change his choice or he does. Let's explore both."
   ]
  },
  {
   "cell_type": "code",
   "execution_count": 10,
   "id": "7dee245f",
   "metadata": {},
   "outputs": [
    {
     "data": {
      "text/plain": [
       "'A'"
      ]
     },
     "execution_count": 10,
     "metadata": {},
     "output_type": "execute_result"
    }
   ],
   "source": [
    "player_choice_no_change = player_choice\n",
    "player_choice_change = choice([door for door in doors if door not in [player_choice, host_choice]])\n",
    "player_choice_change"
   ]
  },
  {
   "cell_type": "code",
   "execution_count": 6,
   "id": "054f5304",
   "metadata": {},
   "outputs": [
    {
     "name": "stdout",
     "output_type": "stream",
     "text": [
      "If player keeps the choice the same:  True\n",
      "If player changes the choice:  False\n"
     ]
    }
   ],
   "source": [
    "# check if player won the car or not\n",
    "win_change = doors_dict[player_choice_change]\n",
    "win_no_change = doors_dict[player_choice_no_change]\n",
    "\n",
    "print(\"If player keeps the choice the same: \", bool(win_no_change))\n",
    "print(\"If player changes the choice: \", bool(win_change))"
   ]
  },
  {
   "cell_type": "markdown",
   "id": "2a541075",
   "metadata": {},
   "source": [
    "## Statistics"
   ]
  },
  {
   "cell_type": "markdown",
   "id": "bcc2780a",
   "metadata": {},
   "source": [
    "Now when I understand how the concept works, let's do the statistics!"
   ]
  },
  {
   "cell_type": "code",
   "execution_count": 124,
   "id": "1f5fdb9b",
   "metadata": {},
   "outputs": [],
   "source": [
    "%reset -f"
   ]
  },
  {
   "cell_type": "code",
   "execution_count": 125,
   "id": "a47f514b",
   "metadata": {},
   "outputs": [],
   "source": [
    "from random import randint, choice, sample\n",
    "import matplotlib.pyplot as plt\n",
    "\n",
    "\n",
    "def create_doors_dict(doors, doors_len):\n",
    "    \n",
    "    doors_carpos = [0]*doors_len\n",
    "    doors_carpos[randint(0,doors_len-1)] = 1 # 3 doors with randomly placed car\n",
    "\n",
    "    doors_dict = {doors[i]: doors_carpos[i] for i in range(len(doors))}\n",
    "#     print(doors_dict)\n",
    "    return doors_dict\n",
    "\n",
    "def make_player_choice(doors):\n",
    "    return choice(doors)\n",
    "\n",
    "def make_host_choice(doors, player_choice, doors_len, doors_dict, k=1):\n",
    "    remaining_doors = [doors[i] for i in range(doors_len) if doors[i] != player_choice]\n",
    "\n",
    "    # now host randomly chooses which door with a goat to reveal\n",
    "    # first I have to find where are goats\n",
    "    remaining_doors_goats = [door for door in remaining_doors if doors_dict[door] == 0]\n",
    "#     print(\"remaining_doors_goats = \", remaining_doors_goats)\n",
    "    host_choice = sample(remaining_doors_goats, k=k)\n",
    "#     print(host_choice)\n",
    "    return host_choice"
   ]
  },
  {
   "cell_type": "code",
   "execution_count": 126,
   "id": "bffb6ede",
   "metadata": {},
   "outputs": [],
   "source": [
    "def run_sim_choice_change(doors, doors_len, k=1):\n",
    "    doors_dict = create_doors_dict(doors, doors_len)\n",
    "    player_choice = make_player_choice(doors)\n",
    "    host_choice = make_host_choice(doors, player_choice, doors_len, doors_dict, k)\n",
    "    \n",
    "    player_choice_change = choice([door for door in doors if door not in [player_choice] + host_choice])\n",
    "#     print([player_choice] + host_choice)\n",
    "    \n",
    "#     print(\"player initial choice = \", player_choice)\n",
    "#     print(\"host_choice = \", host_choice)\n",
    "#     print(\"player choice = \", player_choice_change)\n",
    "    return doors_dict[player_choice_change]\n",
    "\n",
    "def run_sim_no_change(doors, doors_len, k=1):\n",
    "    doors_dict = create_doors_dict(doors, doors_len)\n",
    "    player_choice = make_player_choice(doors)\n",
    "    host_choice = make_host_choice(doors, player_choice, doors_len, doors_dict, k)\n",
    "    \n",
    "#     print(\"host_choice = \", host_choice)\n",
    "#     print(\"player choice = \", player_choice)\n",
    "    return doors_dict[player_choice]"
   ]
  },
  {
   "cell_type": "code",
   "execution_count": 175,
   "id": "1e134b76",
   "metadata": {},
   "outputs": [
    {
     "name": "stdout",
     "output_type": "stream",
     "text": [
      "Chance to win if door choice is not changed = 10.549999999999999%; theory says it should be 10.0%\n",
      "Chance to win if door choice is changed = 89.74%; theory says it should be 90.0%\n"
     ]
    }
   ],
   "source": [
    "N = 10000\n",
    "\n",
    "# doors = ['A', 'B', 'C', 'D', 'E', 'F', 'G', 'I']\n",
    "# doors_len = len(doors)\n",
    "# k = 6 # number of revealed doors\n",
    "\n",
    "N_doors = 10\n",
    "doors_len = N_doors\n",
    "doors = range(N_doors)\n",
    "k = 8\n",
    "\n",
    "result_no_change = [run_sim_no_change(doors, doors_len, k) for i in range(N)]\n",
    "result_change = [run_sim_choice_change(doors, doors_len, k) for i in range(N)]\n",
    "\n",
    "P_win_no_change = sum(result_no_change) / len(result_no_change)\n",
    "P_win_change = sum(result_change) / len(result_change)\n",
    "\n",
    "print(f\"Chance to win if door choice is not changed = {P_win_no_change*100}%; theory says it should be {100/doors_len}%\")\n",
    "print(f\"Chance to win if door choice is changed = {P_win_change*100}%; theory says it should be {100/doors_len * (doors_len-1)/(doors_len-k - 1)}%\")\n",
    "\n"
   ]
  },
  {
   "cell_type": "code",
   "execution_count": 176,
   "id": "7e3859b4",
   "metadata": {},
   "outputs": [
    {
     "data": {
      "text/plain": [
       "Text(0.5, 1.0, 'N = 10')"
      ]
     },
     "execution_count": 176,
     "metadata": {},
     "output_type": "execute_result"
    },
    {
     "data": {
      "image/png": "[encoded data removed]",
      "text/plain": [
       "<Figure size 432x288 with 1 Axes>"
      ]
     },
     "metadata": {
      "needs_background": "light"
     },
     "output_type": "display_data"
    }
   ],
   "source": [
    "import numpy as np\n",
    "\n",
    "x = np.array(range(N_doors-1))\n",
    "plt.plot(x, 1/N_doors * (N_doors-1)/ (N_doors - x - 1), '*')\n",
    "plt.xlabel('# of revealed doors')\n",
    "plt.ylabel(\"P of winning a car if changing\")\n",
    "plt.title(f\"N = {N_doors}\")"
   ]
  },
  {
   "cell_type": "code",
   "execution_count": null,
   "id": "08682a3c",
   "metadata": {},
   "outputs": [],
   "source": []
  }
 ],
 "metadata": {
  "kernelspec": {
   "display_name": "Python 3 (ipykernel)",
   "language": "python",
   "name": "python3"
  },
  "language_info": {
   "codemirror_mode": {
    "name": "ipython",
    "version": 3
   },
   "file_extension": ".py",
   "mimetype": "text/x-python",
   "name": "python",
   "nbconvert_exporter": "python",
   "pygments_lexer": "ipython3",
   "version": "3.8.5"
  }
 },
 "nbformat": 4,
 "nbformat_minor": 5
}
